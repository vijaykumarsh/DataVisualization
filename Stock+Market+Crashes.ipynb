{
 "cells": [
  {
   "cell_type": "code",
   "execution_count": 2,
   "metadata": {
    "_uuid": "06244cd8580697cde268a5a1d7c9edfa02b2c810"
   },
   "outputs": [],
   "source": [
    "import pandas as pd\n",
    "import numpy as np\n",
    "import matplotlib.pyplot as plt\n",
    "from sklearn.preprocessing import LabelEncoder\n",
    "Data=pd.read_csv('G:\\\\Downloads\\\\consolidated.csv',header=None,names=[\"Company_share_code\",\"Date\",\"Opening_price\",\"Highest_price\",\"Lowest_price\",\"Close\",\"Volume_traded\",\"Openint\"])\n",
    "\n"
   ]
  },
  {
   "cell_type": "code",
   "execution_count": 3,
   "metadata": {
    "_uuid": "97a9d98dd6e292c1afbf7699ca20e827b96046d2"
   },
   "outputs": [],
   "source": [
    "Data['Company_share_code']=Data['Company_share_code'].str.replace('.us.txt','')\n"
   ]
  },
  {
   "cell_type": "code",
   "execution_count": 4,
   "metadata": {
    "_uuid": "9e147ef4e574e4f41068cf40869211c283a959eb",
    "collapsed": true
   },
   "outputs": [],
   "source": [
    "# data.groupby('Company_share_code')['Volume_traded'].nlargest(100)\n",
    "# Data=Data.drop('Openint',axis=1)\n",
    "Data=Data.sort_values('Volume_traded',ascending=False).groupby('Company_share_code').head(10)\n"
   ]
  },
  {
   "cell_type": "code",
   "execution_count": 5,
   "metadata": {
    "_uuid": "fdcd17eb6a7d31655418dabbb4f146f7e8acf7f1"
   },
   "outputs": [
    {
     "data": {
      "text/html": [
       "<div>\n",
       "<style>\n",
       "    .dataframe thead tr:only-child th {\n",
       "        text-align: right;\n",
       "    }\n",
       "\n",
       "    .dataframe thead th {\n",
       "        text-align: left;\n",
       "    }\n",
       "\n",
       "    .dataframe tbody tr th {\n",
       "        vertical-align: top;\n",
       "    }\n",
       "</style>\n",
       "<table border=\"1\" class=\"dataframe\">\n",
       "  <thead>\n",
       "    <tr style=\"text-align: right;\">\n",
       "      <th></th>\n",
       "      <th>Company_share_code</th>\n",
       "      <th>Date</th>\n",
       "      <th>Opening_price</th>\n",
       "      <th>Highest_price</th>\n",
       "      <th>Lowest_price</th>\n",
       "      <th>Close</th>\n",
       "      <th>Volume_traded</th>\n",
       "      <th>Openint</th>\n",
       "    </tr>\n",
       "  </thead>\n",
       "  <tbody>\n",
       "    <tr>\n",
       "      <th>1377705</th>\n",
       "      <td>bac</td>\n",
       "      <td>2012-03-07</td>\n",
       "      <td>7.4073</td>\n",
       "      <td>7.6065</td>\n",
       "      <td>7.3694</td>\n",
       "      <td>7.6065</td>\n",
       "      <td>2423735131</td>\n",
       "      <td>0</td>\n",
       "    </tr>\n",
       "    <tr>\n",
       "      <th>2021144</th>\n",
       "      <td>brk-b</td>\n",
       "      <td>2010-02-11</td>\n",
       "      <td>74.5000</td>\n",
       "      <td>76.8000</td>\n",
       "      <td>74.1500</td>\n",
       "      <td>76.6900</td>\n",
       "      <td>2304018600</td>\n",
       "      <td>0</td>\n",
       "    </tr>\n",
       "  </tbody>\n",
       "</table>\n",
       "</div>"
      ],
      "text/plain": [
       "        Company_share_code        Date  Opening_price  Highest_price  \\\n",
       "1377705                bac  2012-03-07         7.4073         7.6065   \n",
       "2021144              brk-b  2010-02-11        74.5000        76.8000   \n",
       "\n",
       "         Lowest_price    Close  Volume_traded  Openint  \n",
       "1377705        7.3694   7.6065     2423735131        0  \n",
       "2021144       74.1500  76.6900     2304018600        0  "
      ]
     },
     "execution_count": 5,
     "metadata": {},
     "output_type": "execute_result"
    }
   ],
   "source": [
    "Data.head(2)"
   ]
  },
  {
   "cell_type": "code",
   "execution_count": null,
   "metadata": {
    "_uuid": "f6f352afc647fa4804a2bc5768f0b1222dbe5f35",
    "collapsed": true
   },
   "outputs": [],
   "source": [
    "# The columns Open and Close represent the starting and final price at which the stock is traded on a particular day.\n",
    "# High, Low and Last represent the maximum, minimum, and last price of the share for the day.\n",
    "# Total Trade Quantity is the number of shares bought or sold in the day and \n",
    "# Turnover (Lacs) is the turnover of the particular company on a given date.\n"
   ]
  },
  {
   "cell_type": "code",
   "execution_count": null,
   "metadata": {
    "_uuid": "ccfa514d602e0a54d7aca794e90230ce538c422c",
    "collapsed": true
   },
   "outputs": [],
   "source": [
    "Data.head()"
   ]
  },
  {
   "cell_type": "code",
   "execution_count": 6,
   "metadata": {
    "_uuid": "4ce3f61fd13172c9f3a96147e21003bc67b64133"
   },
   "outputs": [
    {
     "data": {
      "text/plain": [
       "[<matplotlib.lines.Line2D at 0x19009b35438>]"
      ]
     },
     "execution_count": 6,
     "metadata": {},
     "output_type": "execute_result"
    },
    {
     "data": {
      "image/png": "[encoded data removed]",
      "text/plain": [
       "<matplotlib.figure.Figure at 0x18fc256fac8>"
      ]
     },
     "metadata": {},
     "output_type": "display_data"
    }
   ],
   "source": [
    "%matplotlib inline\n",
    "Data['Date']=pd.to_datetime(Data['Date'],format='%Y-%m-%d')\n",
    "Data.index=Data['Date']\n",
    "plt.figure(figsize=(12,8))\n",
    "\n",
    "plt.plot(Data['Close'],label='closing price history')"
   ]
  },
  {
   "cell_type": "code",
   "execution_count": 7,
   "metadata": {
    "_uuid": "9e383f469b74e6b469c8e2b32fd729e9158e3d25"
   },
   "outputs": [
    {
     "data": {
      "text/html": [
       "<div>\n",
       "<style>\n",
       "    .dataframe thead tr:only-child th {\n",
       "        text-align: right;\n",
       "    }\n",
       "\n",
       "    .dataframe thead th {\n",
       "        text-align: left;\n",
       "    }\n",
       "\n",
       "    .dataframe tbody tr th {\n",
       "        vertical-align: top;\n",
       "    }\n",
       "</style>\n",
       "<table border=\"1\" class=\"dataframe\">\n",
       "  <thead>\n",
       "    <tr style=\"text-align: right;\">\n",
       "      <th></th>\n",
       "      <th>Company_share_code</th>\n",
       "      <th>Date</th>\n",
       "      <th>Opening_price</th>\n",
       "      <th>Highest_price</th>\n",
       "      <th>Lowest_price</th>\n",
       "      <th>Close</th>\n",
       "      <th>Volume_traded</th>\n",
       "      <th>Openint</th>\n",
       "      <th>year</th>\n",
       "      <th>month</th>\n",
       "      <th>day</th>\n",
       "    </tr>\n",
       "    <tr>\n",
       "      <th>Date</th>\n",
       "      <th></th>\n",
       "      <th></th>\n",
       "      <th></th>\n",
       "      <th></th>\n",
       "      <th></th>\n",
       "      <th></th>\n",
       "      <th></th>\n",
       "      <th></th>\n",
       "      <th></th>\n",
       "      <th></th>\n",
       "      <th></th>\n",
       "    </tr>\n",
       "  </thead>\n",
       "  <tbody>\n",
       "    <tr>\n",
       "      <th>2012-03-07</th>\n",
       "      <td>bac</td>\n",
       "      <td>2012-03-07</td>\n",
       "      <td>7.4073</td>\n",
       "      <td>7.6065</td>\n",
       "      <td>7.3694</td>\n",
       "      <td>7.6065</td>\n",
       "      <td>2423735131</td>\n",
       "      <td>0</td>\n",
       "      <td>2012</td>\n",
       "      <td>3</td>\n",
       "      <td>7</td>\n",
       "    </tr>\n",
       "    <tr>\n",
       "      <th>2010-02-11</th>\n",
       "      <td>brk-b</td>\n",
       "      <td>2010-02-11</td>\n",
       "      <td>74.5000</td>\n",
       "      <td>76.8000</td>\n",
       "      <td>74.1500</td>\n",
       "      <td>76.6900</td>\n",
       "      <td>2304018600</td>\n",
       "      <td>0</td>\n",
       "      <td>2010</td>\n",
       "      <td>2</td>\n",
       "      <td>11</td>\n",
       "    </tr>\n",
       "    <tr>\n",
       "      <th>2000-09-29</th>\n",
       "      <td>aapl</td>\n",
       "      <td>2000-09-29</td>\n",
       "      <td>1.8058</td>\n",
       "      <td>1.8570</td>\n",
       "      <td>1.6251</td>\n",
       "      <td>1.6496</td>\n",
       "      <td>2069769775</td>\n",
       "      <td>0</td>\n",
       "      <td>2000</td>\n",
       "      <td>9</td>\n",
       "      <td>29</td>\n",
       "    </tr>\n",
       "    <tr>\n",
       "      <th>1988-06-30</th>\n",
       "      <td>t</td>\n",
       "      <td>1988-06-30</td>\n",
       "      <td>2.6534</td>\n",
       "      <td>2.6959</td>\n",
       "      <td>2.6534</td>\n",
       "      <td>2.6792</td>\n",
       "      <td>2067132699</td>\n",
       "      <td>0</td>\n",
       "      <td>1988</td>\n",
       "      <td>6</td>\n",
       "      <td>30</td>\n",
       "    </tr>\n",
       "    <tr>\n",
       "      <th>2010-02-10</th>\n",
       "      <td>brk-b</td>\n",
       "      <td>2010-02-10</td>\n",
       "      <td>74.5400</td>\n",
       "      <td>74.5900</td>\n",
       "      <td>74.2500</td>\n",
       "      <td>74.4200</td>\n",
       "      <td>1379239200</td>\n",
       "      <td>0</td>\n",
       "      <td>2010</td>\n",
       "      <td>2</td>\n",
       "      <td>10</td>\n",
       "    </tr>\n",
       "  </tbody>\n",
       "</table>\n",
       "</div>"
      ],
      "text/plain": [
       "           Company_share_code       Date  Opening_price  Highest_price  \\\n",
       "Date                                                                     \n",
       "2012-03-07                bac 2012-03-07         7.4073         7.6065   \n",
       "2010-02-11              brk-b 2010-02-11        74.5000        76.8000   \n",
       "2000-09-29               aapl 2000-09-29         1.8058         1.8570   \n",
       "1988-06-30                  t 1988-06-30         2.6534         2.6959   \n",
       "2010-02-10              brk-b 2010-02-10        74.5400        74.5900   \n",
       "\n",
       "            Lowest_price    Close  Volume_traded  Openint  year  month  day  \n",
       "Date                                                                         \n",
       "2012-03-07        7.3694   7.6065     2423735131        0  2012      3    7  \n",
       "2010-02-11       74.1500  76.6900     2304018600        0  2010      2   11  \n",
       "2000-09-29        1.6251   1.6496     2069769775        0  2000      9   29  \n",
       "1988-06-30        2.6534   2.6792     2067132699        0  1988      6   30  \n",
       "2010-02-10       74.2500  74.4200     1379239200        0  2010      2   10  "
      ]
     },
     "execution_count": 7,
     "metadata": {},
     "output_type": "execute_result"
    }
   ],
   "source": [
    "#feature engineering\n",
    "from datetime import date\n",
    "Data['year']=Data['Date'].dt.year\n",
    "Data['month']=Data['Date'].dt.month\n",
    "Data['day']=Data['Date'].dt.day\n",
    "Data.head(5)"
   ]
  },
  {
   "cell_type": "code",
   "execution_count": 10,
   "metadata": {
    "_uuid": "e4605927c635707fe7000a8c5b40d65b7608df67",
    "collapsed": true
   },
   "outputs": [],
   "source": [
    "Data['dayofweek']=Data['Date'].dt.dayofweek"
   ]
  },
  {
   "cell_type": "code",
   "execution_count": null,
   "metadata": {
    "_uuid": "5780e25e1eda8bc045e4d8bbc33877d5dcfe7e9e",
    "collapsed": true
   },
   "outputs": [],
   "source": [
    "Data['mon_fri']=0\n",
    "for i in range(0,len(Data)):\n",
    "    if (Data['dayofweek'][i]==4 or Data['dayofweek'][i]==0):\n",
    "        Data['mon_fri'][i]=1\n",
    "    else:\n",
    "        Data['mon_fri'][i]=0"
   ]
  },
  {
   "cell_type": "code",
   "execution_count": 8,
   "metadata": {},
   "outputs": [
    {
     "data": {
      "text/html": [
       "<div>\n",
       "<style>\n",
       "    .dataframe thead tr:only-child th {\n",
       "        text-align: right;\n",
       "    }\n",
       "\n",
       "    .dataframe thead th {\n",
       "        text-align: left;\n",
       "    }\n",
       "\n",
       "    .dataframe tbody tr th {\n",
       "        vertical-align: top;\n",
       "    }\n",
       "</style>\n",
       "<table border=\"1\" class=\"dataframe\">\n",
       "  <thead>\n",
       "    <tr style=\"text-align: right;\">\n",
       "      <th></th>\n",
       "      <th>Company_share_code</th>\n",
       "      <th>Date</th>\n",
       "      <th>Opening_price</th>\n",
       "      <th>Highest_price</th>\n",
       "      <th>Lowest_price</th>\n",
       "      <th>Close</th>\n",
       "      <th>Volume_traded</th>\n",
       "      <th>Openint</th>\n",
       "      <th>year</th>\n",
       "      <th>month</th>\n",
       "      <th>day</th>\n",
       "    </tr>\n",
       "    <tr>\n",
       "      <th>Date</th>\n",
       "      <th></th>\n",
       "      <th></th>\n",
       "      <th></th>\n",
       "      <th></th>\n",
       "      <th></th>\n",
       "      <th></th>\n",
       "      <th></th>\n",
       "      <th></th>\n",
       "      <th></th>\n",
       "      <th></th>\n",
       "      <th></th>\n",
       "    </tr>\n",
       "  </thead>\n",
       "  <tbody>\n",
       "    <tr>\n",
       "      <th>2012-03-07</th>\n",
       "      <td>bac</td>\n",
       "      <td>2012-03-07</td>\n",
       "      <td>7.4073</td>\n",
       "      <td>7.6065</td>\n",
       "      <td>7.3694</td>\n",
       "      <td>7.6065</td>\n",
       "      <td>2423735131</td>\n",
       "      <td>0</td>\n",
       "      <td>2012</td>\n",
       "      <td>3</td>\n",
       "      <td>7</td>\n",
       "    </tr>\n",
       "    <tr>\n",
       "      <th>2010-02-11</th>\n",
       "      <td>brk-b</td>\n",
       "      <td>2010-02-11</td>\n",
       "      <td>74.5000</td>\n",
       "      <td>76.8000</td>\n",
       "      <td>74.1500</td>\n",
       "      <td>76.6900</td>\n",
       "      <td>2304018600</td>\n",
       "      <td>0</td>\n",
       "      <td>2010</td>\n",
       "      <td>2</td>\n",
       "      <td>11</td>\n",
       "    </tr>\n",
       "  </tbody>\n",
       "</table>\n",
       "</div>"
      ],
      "text/plain": [
       "           Company_share_code       Date  Opening_price  Highest_price  \\\n",
       "Date                                                                     \n",
       "2012-03-07                bac 2012-03-07         7.4073         7.6065   \n",
       "2010-02-11              brk-b 2010-02-11        74.5000        76.8000   \n",
       "\n",
       "            Lowest_price    Close  Volume_traded  Openint  year  month  day  \n",
       "Date                                                                         \n",
       "2012-03-07        7.3694   7.6065     2423735131        0  2012      3    7  \n",
       "2010-02-11       74.1500  76.6900     2304018600        0  2010      2   11  "
      ]
     },
     "execution_count": 8,
     "metadata": {},
     "output_type": "execute_result"
    }
   ],
   "source": [
    "Data.head(2)"
   ]
  },
  {
   "cell_type": "code",
   "execution_count": 11,
   "metadata": {
    "_uuid": "8f33565b70345eb8005dd114888aa2454d617b0b"
   },
   "outputs": [],
   "source": [
    "iv=Data[['Company_share_code','year','month','day','Opening_price','Highest_price','Lowest_price','Volume_traded','dayofweek']]\n",
    "dv=Data[['Close']]"
   ]
  },
  {
   "cell_type": "code",
   "execution_count": 13,
   "metadata": {
    "_uuid": "80da428b900815b64c468c3dcb034e7235b94493",
    "collapsed": true
   },
   "outputs": [],
   "source": [
    "from sklearn.model_selection import train_test_split\n",
    "from sklearn.linear_model import LinearRegression,LogisticRegression,perceptron\n",
    "\n",
    "LR=LinearRegression()\n",
    "LogR=LogisticRegression()\n",
    "\n"
   ]
  },
  {
   "cell_type": "code",
   "execution_count": 14,
   "metadata": {
    "_uuid": "2268e15f1c80628041f73591e655a59878f7f416"
   },
   "outputs": [],
   "source": [
    "iv_train,iv_test,dv_train,dv_test=train_test_split(iv,dv,test_size=0.3,random_state=0)"
   ]
  },
  {
   "cell_type": "code",
   "execution_count": 23,
   "metadata": {},
   "outputs": [],
   "source": [
    "\n",
    "Scaling=iv_train[['year','month','day','Opening_price','Highest_price','Lowest_price','Volume_traded','dayofweek']].head(2)"
   ]
  },
  {
   "cell_type": "code",
   "execution_count": 24,
   "metadata": {},
   "outputs": [
    {
     "data": {
      "text/html": [
       "<div>\n",
       "<style>\n",
       "    .dataframe thead tr:only-child th {\n",
       "        text-align: right;\n",
       "    }\n",
       "\n",
       "    .dataframe thead th {\n",
       "        text-align: left;\n",
       "    }\n",
       "\n",
       "    .dataframe tbody tr th {\n",
       "        vertical-align: top;\n",
       "    }\n",
       "</style>\n",
       "<table border=\"1\" class=\"dataframe\">\n",
       "  <thead>\n",
       "    <tr style=\"text-align: right;\">\n",
       "      <th></th>\n",
       "      <th>year</th>\n",
       "      <th>month</th>\n",
       "      <th>day</th>\n",
       "      <th>Opening_price</th>\n",
       "      <th>Highest_price</th>\n",
       "      <th>Lowest_price</th>\n",
       "      <th>Volume_traded</th>\n",
       "      <th>dayofweek</th>\n",
       "    </tr>\n",
       "    <tr>\n",
       "      <th>Date</th>\n",
       "      <th></th>\n",
       "      <th></th>\n",
       "      <th></th>\n",
       "      <th></th>\n",
       "      <th></th>\n",
       "      <th></th>\n",
       "      <th></th>\n",
       "      <th></th>\n",
       "    </tr>\n",
       "  </thead>\n",
       "  <tbody>\n",
       "    <tr>\n",
       "      <th>2009-11-11</th>\n",
       "      <td>2009</td>\n",
       "      <td>11</td>\n",
       "      <td>11</td>\n",
       "      <td>20.018</td>\n",
       "      <td>21.668</td>\n",
       "      <td>19.878</td>\n",
       "      <td>24689296</td>\n",
       "      <td>2</td>\n",
       "    </tr>\n",
       "    <tr>\n",
       "      <th>2013-10-04</th>\n",
       "      <td>2013</td>\n",
       "      <td>10</td>\n",
       "      <td>4</td>\n",
       "      <td>13.532</td>\n",
       "      <td>15.830</td>\n",
       "      <td>12.614</td>\n",
       "      <td>22259407</td>\n",
       "      <td>4</td>\n",
       "    </tr>\n",
       "  </tbody>\n",
       "</table>\n",
       "</div>"
      ],
      "text/plain": [
       "            year  month  day  Opening_price  Highest_price  Lowest_price  \\\n",
       "Date                                                                       \n",
       "2009-11-11  2009     11   11         20.018         21.668        19.878   \n",
       "2013-10-04  2013     10    4         13.532         15.830        12.614   \n",
       "\n",
       "            Volume_traded  dayofweek  \n",
       "Date                                  \n",
       "2009-11-11       24689296          2  \n",
       "2013-10-04       22259407          4  "
      ]
     },
     "execution_count": 24,
     "metadata": {},
     "output_type": "execute_result"
    }
   ],
   "source": [
    "Scaling.head(2)"
   ]
  },
  {
   "cell_type": "code",
   "execution_count": 27,
   "metadata": {
    "_uuid": "20d9377171124b982411cb2b3aac187a67422719"
   },
   "outputs": [
    {
     "name": "stderr",
     "output_type": "stream",
     "text": [
      "C:\\Users\\Vijay\\Anaconda3\\lib\\site-packages\\ipykernel_launcher.py:3: SettingWithCopyWarning: \n",
      "A value is trying to be set on a copy of a slice from a DataFrame.\n",
      "Try using .loc[row_indexer,col_indexer] = value instead\n",
      "\n",
      "See the caveats in the documentation: http://pandas.pydata.org/pandas-docs/stable/indexing.html#indexing-view-versus-copy\n",
      "  This is separate from the ipykernel package so we can avoid doing imports until\n",
      "C:\\Users\\Vijay\\Anaconda3\\lib\\site-packages\\pandas\\core\\indexing.py:517: SettingWithCopyWarning: \n",
      "A value is trying to be set on a copy of a slice from a DataFrame.\n",
      "Try using .loc[row_indexer,col_indexer] = value instead\n",
      "\n",
      "See the caveats in the documentation: http://pandas.pydata.org/pandas-docs/stable/indexing.html#indexing-view-versus-copy\n",
      "  self.obj[item] = s\n",
      "C:\\Users\\Vijay\\Anaconda3\\lib\\site-packages\\ipykernel_launcher.py:4: SettingWithCopyWarning: \n",
      "A value is trying to be set on a copy of a slice from a DataFrame.\n",
      "Try using .loc[row_indexer,col_indexer] = value instead\n",
      "\n",
      "See the caveats in the documentation: http://pandas.pydata.org/pandas-docs/stable/indexing.html#indexing-view-versus-copy\n",
      "  after removing the cwd from sys.path.\n"
     ]
    }
   ],
   "source": [
    "from sklearn.preprocessing import MinMaxScaler\n",
    "Sc=MinMaxScaler(feature_range=(0,1))\n",
    "iv_train[['year','month','day','Opening_price','Highest_price','Lowest_price','Volume_traded','dayofweek']]=Sc.fit_transform(iv_train[['year','month','day','Opening_price','Highest_price','Lowest_price','Volume_traded','dayofweek']])\n",
    "iv_test[['year','month','day','Opening_price','Highest_price','Lowest_price','Volume_traded','dayofweek']]=Sc.fit_transform(iv_test[['year','month','day','Opening_price','Highest_price','Lowest_price','Volume_traded','dayofweek']])"
   ]
  },
  {
   "cell_type": "code",
   "execution_count": 29,
   "metadata": {},
   "outputs": [
    {
     "data": {
      "text/html": [
       "<div>\n",
       "<style>\n",
       "    .dataframe thead tr:only-child th {\n",
       "        text-align: right;\n",
       "    }\n",
       "\n",
       "    .dataframe thead th {\n",
       "        text-align: left;\n",
       "    }\n",
       "\n",
       "    .dataframe tbody tr th {\n",
       "        vertical-align: top;\n",
       "    }\n",
       "</style>\n",
       "<table border=\"1\" class=\"dataframe\">\n",
       "  <thead>\n",
       "    <tr style=\"text-align: right;\">\n",
       "      <th></th>\n",
       "      <th>Company_share_code</th>\n",
       "      <th>year</th>\n",
       "      <th>month</th>\n",
       "      <th>day</th>\n",
       "      <th>Opening_price</th>\n",
       "      <th>Highest_price</th>\n",
       "      <th>Lowest_price</th>\n",
       "      <th>Volume_traded</th>\n",
       "      <th>dayofweek</th>\n",
       "    </tr>\n",
       "    <tr>\n",
       "      <th>Date</th>\n",
       "      <th></th>\n",
       "      <th></th>\n",
       "      <th></th>\n",
       "      <th></th>\n",
       "      <th></th>\n",
       "      <th></th>\n",
       "      <th></th>\n",
       "      <th></th>\n",
       "      <th></th>\n",
       "    </tr>\n",
       "  </thead>\n",
       "  <tbody>\n",
       "    <tr>\n",
       "      <th>2016-11-29</th>\n",
       "      <td>bip</td>\n",
       "      <td>0.971429</td>\n",
       "      <td>0.909091</td>\n",
       "      <td>0.933333</td>\n",
       "      <td>0.000276</td>\n",
       "      <td>0.000281</td>\n",
       "      <td>0.000286</td>\n",
       "      <td>0.002104</td>\n",
       "      <td>0.25</td>\n",
       "    </tr>\n",
       "    <tr>\n",
       "      <th>2007-05-18</th>\n",
       "      <td>gpic</td>\n",
       "      <td>0.714286</td>\n",
       "      <td>0.363636</td>\n",
       "      <td>0.566667</td>\n",
       "      <td>0.000088</td>\n",
       "      <td>0.000087</td>\n",
       "      <td>0.000087</td>\n",
       "      <td>0.000123</td>\n",
       "      <td>1.00</td>\n",
       "    </tr>\n",
       "  </tbody>\n",
       "</table>\n",
       "</div>"
      ],
      "text/plain": [
       "           Company_share_code      year     month       day  Opening_price  \\\n",
       "Date                                                                         \n",
       "2016-11-29                bip  0.971429  0.909091  0.933333       0.000276   \n",
       "2007-05-18               gpic  0.714286  0.363636  0.566667       0.000088   \n",
       "\n",
       "            Highest_price  Lowest_price  Volume_traded  dayofweek  \n",
       "Date                                                               \n",
       "2016-11-29       0.000281      0.000286       0.002104       0.25  \n",
       "2007-05-18       0.000087      0.000087       0.000123       1.00  "
      ]
     },
     "execution_count": 29,
     "metadata": {},
     "output_type": "execute_result"
    }
   ],
   "source": [
    "iv_test.head(2)"
   ]
  },
  {
   "cell_type": "code",
   "execution_count": null,
   "metadata": {
    "_uuid": "411db136abfe5f1797e317c1b690df2daf973e43",
    "collapsed": true
   },
   "outputs": [],
   "source": [
    "# X=data.iloc[:,0].values\n",
    "from sklearn.preprocessing import LabelEncoder,OneHotEncoder\n",
    "\n",
    "labelencoder=LabelEncoder()\n",
    "iv_train.iloc[:,0]=labelencoder.fit_transform(data.iloc[:,0])\n",
    "\n",
    "#One hot encoding\n",
    "\n",
    "Onehotencoder=OneHotEncoder(categorical_features=[0])\n",
    "Onehotencoder.fit_transform(data.iloc[:,0]).toarray()\n"
   ]
  },
  {
   "cell_type": "code",
   "execution_count": 38,
   "metadata": {},
   "outputs": [],
   "source": [
    "\n",
    "# iv_train=pd.concat([iv_train[['year','month','day','Opening_price','Highest_price','Lowest_price','Volume_traded','dayofweek']]\n",
    "#                     ,pd.get_dummies(iv_train['Company_share_code'])],axis=1)\n",
    "\n",
    "iv_test=pd.concat([iv_test[['year','month','day','Opening_price','Highest_price','Lowest_price','Volume_traded','dayofweek']]\n",
    "                    ,pd.get_dummies(iv_test['Company_share_code'])],axis=1)"
   ]
  },
  {
   "cell_type": "code",
   "execution_count": 39,
   "metadata": {},
   "outputs": [
    {
     "data": {
      "text/html": [
       "<div>\n",
       "<style>\n",
       "    .dataframe thead tr:only-child th {\n",
       "        text-align: right;\n",
       "    }\n",
       "\n",
       "    .dataframe thead th {\n",
       "        text-align: left;\n",
       "    }\n",
       "\n",
       "    .dataframe tbody tr th {\n",
       "        vertical-align: top;\n",
       "    }\n",
       "</style>\n",
       "<table border=\"1\" class=\"dataframe\">\n",
       "  <thead>\n",
       "    <tr style=\"text-align: right;\">\n",
       "      <th></th>\n",
       "      <th>year</th>\n",
       "      <th>month</th>\n",
       "      <th>day</th>\n",
       "      <th>Opening_price</th>\n",
       "      <th>Highest_price</th>\n",
       "      <th>Lowest_price</th>\n",
       "      <th>Volume_traded</th>\n",
       "      <th>dayofweek</th>\n",
       "      <th>a</th>\n",
       "      <th>aa</th>\n",
       "      <th>...</th>\n",
       "      <th>zoes</th>\n",
       "      <th>zsan</th>\n",
       "      <th>zto</th>\n",
       "      <th>ztr</th>\n",
       "      <th>zts</th>\n",
       "      <th>zumz</th>\n",
       "      <th>zvv</th>\n",
       "      <th>zx</th>\n",
       "      <th>zyme</th>\n",
       "      <th>zyne</th>\n",
       "    </tr>\n",
       "    <tr>\n",
       "      <th>Date</th>\n",
       "      <th></th>\n",
       "      <th></th>\n",
       "      <th></th>\n",
       "      <th></th>\n",
       "      <th></th>\n",
       "      <th></th>\n",
       "      <th></th>\n",
       "      <th></th>\n",
       "      <th></th>\n",
       "      <th></th>\n",
       "      <th></th>\n",
       "      <th></th>\n",
       "      <th></th>\n",
       "      <th></th>\n",
       "      <th></th>\n",
       "      <th></th>\n",
       "      <th></th>\n",
       "      <th></th>\n",
       "      <th></th>\n",
       "      <th></th>\n",
       "      <th></th>\n",
       "    </tr>\n",
       "  </thead>\n",
       "  <tbody>\n",
       "    <tr>\n",
       "      <th>2016-11-29</th>\n",
       "      <td>0.971429</td>\n",
       "      <td>0.909091</td>\n",
       "      <td>0.933333</td>\n",
       "      <td>0.000276</td>\n",
       "      <td>0.000281</td>\n",
       "      <td>0.000286</td>\n",
       "      <td>0.002104</td>\n",
       "      <td>0.25</td>\n",
       "      <td>0</td>\n",
       "      <td>0</td>\n",
       "      <td>...</td>\n",
       "      <td>0</td>\n",
       "      <td>0</td>\n",
       "      <td>0</td>\n",
       "      <td>0</td>\n",
       "      <td>0</td>\n",
       "      <td>0</td>\n",
       "      <td>0</td>\n",
       "      <td>0</td>\n",
       "      <td>0</td>\n",
       "      <td>0</td>\n",
       "    </tr>\n",
       "    <tr>\n",
       "      <th>2007-05-18</th>\n",
       "      <td>0.714286</td>\n",
       "      <td>0.363636</td>\n",
       "      <td>0.566667</td>\n",
       "      <td>0.000088</td>\n",
       "      <td>0.000087</td>\n",
       "      <td>0.000087</td>\n",
       "      <td>0.000123</td>\n",
       "      <td>1.00</td>\n",
       "      <td>0</td>\n",
       "      <td>0</td>\n",
       "      <td>...</td>\n",
       "      <td>0</td>\n",
       "      <td>0</td>\n",
       "      <td>0</td>\n",
       "      <td>0</td>\n",
       "      <td>0</td>\n",
       "      <td>0</td>\n",
       "      <td>0</td>\n",
       "      <td>0</td>\n",
       "      <td>0</td>\n",
       "      <td>0</td>\n",
       "    </tr>\n",
       "  </tbody>\n",
       "</table>\n",
       "<p>2 rows × 6936 columns</p>\n",
       "</div>"
      ],
      "text/plain": [
       "                year     month       day  Opening_price  Highest_price  \\\n",
       "Date                                                                     \n",
       "2016-11-29  0.971429  0.909091  0.933333       0.000276       0.000281   \n",
       "2007-05-18  0.714286  0.363636  0.566667       0.000088       0.000087   \n",
       "\n",
       "            Lowest_price  Volume_traded  dayofweek  a  aa  ...   zoes  zsan  \\\n",
       "Date                                                       ...                \n",
       "2016-11-29      0.000286       0.002104       0.25  0   0  ...      0     0   \n",
       "2007-05-18      0.000087       0.000123       1.00  0   0  ...      0     0   \n",
       "\n",
       "            zto  ztr  zts  zumz  zvv  zx  zyme  zyne  \n",
       "Date                                                  \n",
       "2016-11-29    0    0    0     0    0   0     0     0  \n",
       "2007-05-18    0    0    0     0    0   0     0     0  \n",
       "\n",
       "[2 rows x 6936 columns]"
      ]
     },
     "execution_count": 39,
     "metadata": {},
     "output_type": "execute_result"
    }
   ],
   "source": [
    "iv_test.head(2)"
   ]
  },
  {
   "cell_type": "code",
   "execution_count": null,
   "metadata": {
    "_uuid": "914e6c0cc1963729aac12bf24f1de8e36f24bbc6",
    "collapsed": true
   },
   "outputs": [],
   "source": [
    "from sklearn import svm\n",
    "svm=svm.SVR().fit(iv_train,dv_train)\n",
    "y_pred_svm=svm.predict(iv_test)"
   ]
  },
  {
   "cell_type": "code",
   "execution_count": 44,
   "metadata": {},
   "outputs": [
    {
     "data": {
      "text/plain": [
       "(21343, 6936)"
      ]
     },
     "execution_count": 44,
     "metadata": {},
     "output_type": "execute_result"
    }
   ],
   "source": [
    "iv_test.shape"
   ]
  },
  {
   "cell_type": "code",
   "execution_count": 41,
   "metadata": {
    "_uuid": "27a688bf5c7a46ad8434d74bc31099e89f3a0df7"
   },
   "outputs": [
    {
     "ename": "MemoryError",
     "evalue": "",
     "output_type": "error",
     "traceback": [
      "\u001b[1;31m---------------------------------------------------------------------------\u001b[0m",
      "\u001b[1;31mMemoryError\u001b[0m                               Traceback (most recent call last)",
      "\u001b[1;32m<ipython-input-41-a137ce0d2542>\u001b[0m in \u001b[0;36m<module>\u001b[1;34m()\u001b[0m\n\u001b[1;32m----> 1\u001b[1;33m \u001b[0mLR\u001b[0m\u001b[1;33m.\u001b[0m\u001b[0mfit\u001b[0m\u001b[1;33m(\u001b[0m\u001b[0miv_train\u001b[0m\u001b[1;33m,\u001b[0m\u001b[0mdv_train\u001b[0m\u001b[1;33m)\u001b[0m\u001b[1;33m\u001b[0m\u001b[0m\n\u001b[0m\u001b[0;32m      2\u001b[0m \u001b[0my_pred_LR\u001b[0m\u001b[1;33m=\u001b[0m\u001b[0mLR\u001b[0m\u001b[1;33m.\u001b[0m\u001b[0mpredict\u001b[0m\u001b[1;33m(\u001b[0m\u001b[0miv_test\u001b[0m\u001b[1;33m)\u001b[0m\u001b[1;33m\u001b[0m\u001b[0m\n\u001b[0;32m      3\u001b[0m \u001b[1;31m# from sklearn import preprocessing\u001b[0m\u001b[1;33m\u001b[0m\u001b[1;33m\u001b[0m\u001b[0m\n\u001b[0;32m      4\u001b[0m \u001b[1;31m# lab_enc = preprocessing.LabelEncoder()\u001b[0m\u001b[1;33m\u001b[0m\u001b[1;33m\u001b[0m\u001b[0m\n\u001b[0;32m      5\u001b[0m \u001b[1;31m# dv_train_encoded=lab_enc.fit_transform(dv_train)\u001b[0m\u001b[1;33m\u001b[0m\u001b[1;33m\u001b[0m\u001b[0m\n",
      "\u001b[1;32mC:\\Users\\Vijay\\Anaconda3\\lib\\site-packages\\sklearn\\linear_model\\base.py\u001b[0m in \u001b[0;36mfit\u001b[1;34m(self, X, y, sample_weight)\u001b[0m\n\u001b[0;32m    517\u001b[0m         X, y, X_offset, y_offset, X_scale = self._preprocess_data(\n\u001b[0;32m    518\u001b[0m             \u001b[0mX\u001b[0m\u001b[1;33m,\u001b[0m \u001b[0my\u001b[0m\u001b[1;33m,\u001b[0m \u001b[0mfit_intercept\u001b[0m\u001b[1;33m=\u001b[0m\u001b[0mself\u001b[0m\u001b[1;33m.\u001b[0m\u001b[0mfit_intercept\u001b[0m\u001b[1;33m,\u001b[0m \u001b[0mnormalize\u001b[0m\u001b[1;33m=\u001b[0m\u001b[0mself\u001b[0m\u001b[1;33m.\u001b[0m\u001b[0mnormalize\u001b[0m\u001b[1;33m,\u001b[0m\u001b[1;33m\u001b[0m\u001b[0m\n\u001b[1;32m--> 519\u001b[1;33m             copy=self.copy_X, sample_weight=sample_weight)\n\u001b[0m\u001b[0;32m    520\u001b[0m \u001b[1;33m\u001b[0m\u001b[0m\n\u001b[0;32m    521\u001b[0m         \u001b[1;32mif\u001b[0m \u001b[0msample_weight\u001b[0m \u001b[1;32mis\u001b[0m \u001b[1;32mnot\u001b[0m \u001b[1;32mNone\u001b[0m\u001b[1;33m:\u001b[0m\u001b[1;33m\u001b[0m\u001b[0m\n",
      "\u001b[1;32mC:\\Users\\Vijay\\Anaconda3\\lib\\site-packages\\sklearn\\linear_model\\base.py\u001b[0m in \u001b[0;36m_preprocess_data\u001b[1;34m(X, y, fit_intercept, normalize, copy, sample_weight, return_mean)\u001b[0m\n\u001b[0;32m    166\u001b[0m \u001b[1;33m\u001b[0m\u001b[0m\n\u001b[0;32m    167\u001b[0m     X = check_array(X, copy=copy, accept_sparse=['csr', 'csc'],\n\u001b[1;32m--> 168\u001b[1;33m                     dtype=FLOAT_DTYPES)\n\u001b[0m\u001b[0;32m    169\u001b[0m \u001b[1;33m\u001b[0m\u001b[0m\n\u001b[0;32m    170\u001b[0m     \u001b[1;32mif\u001b[0m \u001b[0mfit_intercept\u001b[0m\u001b[1;33m:\u001b[0m\u001b[1;33m\u001b[0m\u001b[0m\n",
      "\u001b[1;32mC:\\Users\\Vijay\\Anaconda3\\lib\\site-packages\\sklearn\\utils\\validation.py\u001b[0m in \u001b[0;36mcheck_array\u001b[1;34m(array, accept_sparse, dtype, order, copy, force_all_finite, ensure_2d, allow_nd, ensure_min_samples, ensure_min_features, warn_on_dtype, estimator)\u001b[0m\n\u001b[0;32m    380\u001b[0m                                       force_all_finite)\n\u001b[0;32m    381\u001b[0m     \u001b[1;32melse\u001b[0m\u001b[1;33m:\u001b[0m\u001b[1;33m\u001b[0m\u001b[0m\n\u001b[1;32m--> 382\u001b[1;33m         \u001b[0marray\u001b[0m \u001b[1;33m=\u001b[0m \u001b[0mnp\u001b[0m\u001b[1;33m.\u001b[0m\u001b[0marray\u001b[0m\u001b[1;33m(\u001b[0m\u001b[0marray\u001b[0m\u001b[1;33m,\u001b[0m \u001b[0mdtype\u001b[0m\u001b[1;33m=\u001b[0m\u001b[0mdtype\u001b[0m\u001b[1;33m,\u001b[0m \u001b[0morder\u001b[0m\u001b[1;33m=\u001b[0m\u001b[0morder\u001b[0m\u001b[1;33m,\u001b[0m \u001b[0mcopy\u001b[0m\u001b[1;33m=\u001b[0m\u001b[0mcopy\u001b[0m\u001b[1;33m)\u001b[0m\u001b[1;33m\u001b[0m\u001b[0m\n\u001b[0m\u001b[0;32m    383\u001b[0m \u001b[1;33m\u001b[0m\u001b[0m\n\u001b[0;32m    384\u001b[0m         \u001b[1;32mif\u001b[0m \u001b[0mensure_2d\u001b[0m\u001b[1;33m:\u001b[0m\u001b[1;33m\u001b[0m\u001b[0m\n",
      "\u001b[1;31mMemoryError\u001b[0m: "
     ]
    }
   ],
   "source": [
    "LR.fit(iv_train,dv_train)\n",
    "y_pred_LR=LR.predict(iv_test)\n",
    "# from sklearn import preprocessing\n",
    "# lab_enc = preprocessing.LabelEncoder()\n",
    "# dv_train_encoded=lab_enc.fit_transform(dv_train)\n",
    "# iv_train_encoded=lab_enc.fit_transform(iv_train)\n",
    "# y_pred_LogR=LogisticRegression(random_state=0, solver='lbfgs',multi_class='multinomial').fit(iv_train,dv_train_encoded)\n",
    "# y_pred_LogR_pred=y_pred_LogR.predict(iv_test)"
   ]
  },
  {
   "cell_type": "code",
   "execution_count": null,
   "metadata": {
    "_uuid": "93b5293cdf12631c0735a0d2f8336523d04ee797",
    "collapsed": true
   },
   "outputs": [],
   "source": [
    "# #calculating RMSE\n",
    "# import numpy as np\n",
    "# from sklearn.metrics import mean_squared_error\n",
    "# print(np.sqrt(mean_squared_error(dv_test,y_pred_LR)))"
   ]
  },
  {
   "cell_type": "code",
   "execution_count": null,
   "metadata": {
    "_uuid": "3304e262b3f17678371e02c109102db16490a48d",
    "collapsed": true
   },
   "outputs": [],
   "source": [
    "def rmse(pred,target):\n",
    "    diff=pred-target\n",
    "    diff_sq=diff**2\n",
    "    mean_diff_sq=diff_sq.mean()\n",
    "    rmse_val=np.sqrt(mean_diff_sq)\n",
    "    return rmse_val"
   ]
  },
  {
   "cell_type": "code",
   "execution_count": null,
   "metadata": {
    "_uuid": "581428c062973bf5b7dfe41de68c118efdcd53a1",
    "collapsed": true
   },
   "outputs": [],
   "source": [
    "print('RMSE for logistic regression',rmse(dv_test,y_pred_LogR.predict(iv_test)),'RMSE for SVR',rmse(dv_test,y_pred_svm),'RMSE for LR',rmse(dv_test,y_pred_LR))"
   ]
  },
  {
   "cell_type": "code",
   "execution_count": null,
   "metadata": {
    "_uuid": "5b025df954ef5fd13dc884ecd05ac858fb705e3c",
    "collapsed": true
   },
   "outputs": [],
   "source": [
    "import seaborn as sns\n",
    "sns.scatterplot(y_pred_LR,dv_test,hue=y_pred_LR)"
   ]
  },
  {
   "cell_type": "code",
   "execution_count": null,
   "metadata": {
    "_uuid": "22b47728fa16765adb8b70813f8dd82ff0060275",
    "collapsed": true
   },
   "outputs": [],
   "source": [
    "correlation = data.corr(method='pearson')\n",
    "print(correlation)"
   ]
  },
  {
   "cell_type": "code",
   "execution_count": null,
   "metadata": {
    "_uuid": "26e31b20520612683a281237693ab8c6c5e13a33",
    "collapsed": true
   },
   "outputs": [],
   "source": [
    "from sklearn.linear_model import LinearRegression\n",
    "from sklearn.linear_model import Lasso\n",
    "from sklearn.linear_model import ElasticNet\n",
    "from sklearn.tree import DecisionTreeRegressor\n",
    "from sklearn.neighbors import KNeighborsRegressor\n",
    "from sklearn.ensemble import GradientBoostingRegressor\n",
    "from sklearn.pipeline import Pipeline\n",
    "from sklearn.preprocessing import StandardScaler\n",
    "from sklearn.model_selection import cross_val_score\n",
    "from sklearn.model_selection import KFold"
   ]
  },
  {
   "cell_type": "code",
   "execution_count": null,
   "metadata": {
    "_uuid": "9bbfcfabe1eca0228b0a292ecdd1d289194580d7",
    "collapsed": true
   },
   "outputs": [],
   "source": [
    "pipelines = []\n",
    "pipelines.append(('ScaledLR', Pipeline([('Scaler', StandardScaler()),('LR',LinearRegression())])))\n",
    "pipelines.append(('ScaledLASSO', Pipeline([('Scaler', StandardScaler()),('LASSO', Lasso())])))\n",
    "pipelines.append(('ScaledEN', Pipeline([('Scaler', StandardScaler()),('EN', ElasticNet())])))\n",
    "pipelines.append(('ScaledKNN', Pipeline([('Scaler', StandardScaler()),('KNN', KNeighborsRegressor())])))\n",
    "pipelines.append(('ScaledCART', Pipeline([('Scaler', StandardScaler()),('CART', DecisionTreeRegressor())])))\n",
    "pipelines.append(('ScaledGBM', Pipeline([('Scaler', StandardScaler()),('GBM', GradientBoostingRegressor())])))\n",
    "\n",
    "results = []\n",
    "names = []\n",
    "for name, model in pipelines:\n",
    "    kfold = KFold(n_splits=10, random_state=21)\n",
    "    cv_results = cross_val_score(model, iv_train, dv_train, cv=kfold, scoring='neg_mean_squared_error')\n",
    "    results.append(cv_results)\n",
    "    names.append(name)\n",
    "    msg = \"%s: %f (%f)\" % (name, cv_results.mean(), cv_results.std())\n",
    "    print(msg)"
   ]
  },
  {
   "cell_type": "code",
   "execution_count": null,
   "metadata": {
    "_uuid": "dbc830343e22ba608b57e5ce997d18fb3f4d73f4",
    "collapsed": true
   },
   "outputs": [],
   "source": [
    "from sklearn.metrics import mean_squared_error\n",
    "\n",
    "scaler = StandardScaler().fit(iv_train)\n",
    "rescaled_X_train = scaler.transform(iv_train)\n",
    "model = GradientBoostingRegressor(random_state=21, n_estimators=400)\n",
    "model.fit(rescaled_X_train, dv_train)\n",
    "\n",
    "# transform the validation dataset\n",
    "rescaled_X_test = scaler.transform(iv_test)\n",
    "predictions = model.predict(rescaled_X_test)\n",
    "print (mean_squared_error(dv_test, predictions))"
   ]
  },
  {
   "cell_type": "code",
   "execution_count": null,
   "metadata": {
    "_uuid": "394aadc2b2c9e730e139128da9ebf420eb54877a",
    "collapsed": true
   },
   "outputs": [],
   "source": [
    "compare = pd.DataFrame({'Prediction': predictions, 'Test Data' : dv_test})\n",
    "compare.head(100)"
   ]
  },
  {
   "cell_type": "code",
   "execution_count": null,
   "metadata": {
    "_uuid": "a8c48903fe965185338c76349c098164ad7cab2b",
    "collapsed": true
   },
   "outputs": [],
   "source": [
    "Onehotencoder.fit_transform(iv).toarray()"
   ]
  },
  {
   "cell_type": "code",
   "execution_count": null,
   "metadata": {
    "_uuid": "242a10c66426db69465b0fd0da627eb965466f54",
    "collapsed": true
   },
   "outputs": [],
   "source": [
    "from sklearn.preprocessing import OneHotEncoder\n",
    "enc=OneHotEncoder(categorical_features = [0])\n",
    "X=enc.fit_transform(X).toarray()\n",
    "\n"
   ]
  }
 ],
 "metadata": {
  "kernelspec": {
   "display_name": "Python 3",
   "language": "python",
   "name": "python3"
  },
  "language_info": {
   "codemirror_mode": {
    "name": "ipython",
    "version": 3
   },
   "file_extension": ".py",
   "mimetype": "text/x-python",
   "name": "python",
   "nbconvert_exporter": "python",
   "pygments_lexer": "ipython3",
   "version": "3.6.1"
  }
 },
 "nbformat": 4,
 "nbformat_minor": 1
}
